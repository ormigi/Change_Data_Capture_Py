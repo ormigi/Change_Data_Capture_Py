{
 "cells": [
  {
   "cell_type": "code",
   "execution_count": 48,
   "id": "33e5759f-5e34-4972-9cbe-f04075d9e051",
   "metadata": {},
   "outputs": [],
   "source": [
    "# PYTHON(MYENV_TEST)\n",
    "#from time import sleep\n",
    "import pandas as pd\n",
    "import os\n",
    "import glob\n",
    "from datetime import datetime\n",
    "from time import sleep"
   ]
  },
  {
   "cell_type": "code",
   "execution_count": 50,
   "id": "7a1de728-8022-45c8-b520-3d45a29d5dbc",
   "metadata": {},
   "outputs": [],
   "source": [
    "#pip install pyarrow"
   ]
  },
  {
   "cell_type": "code",
   "execution_count": 49,
   "id": "7c5cbf4e-fa14-48df-bd9c-48100a768a77",
   "metadata": {},
   "outputs": [],
   "source": [
    "#pip install fastparquet"
   ]
  },
  {
   "cell_type": "code",
   "execution_count": 51,
   "id": "292baa6f-a048-41d4-af1c-385ad5dad7c3",
   "metadata": {},
   "outputs": [],
   "source": [
    "import pyarrow.parquet as pq\n",
    "import fastparquet"
   ]
  },
  {
   "cell_type": "code",
   "execution_count": 57,
   "id": "fe07675b-9877-4e72-b00f-3861edebff5f",
   "metadata": {},
   "outputs": [],
   "source": [
    "class ChangeDataCapture:\n",
    "    def __init__(self, timestamp) -> None:\n",
    "        self.current_data = pd.DataFrame()\n",
    "        self.previous_data = None\n",
    "        self.source_file_name = None\n",
    "        self.column_names = None\n",
    "        self.timestamp = timestamp\n",
    "\n",
    "    def load_current_data(self, file_path, file_name):\n",
    "        self.current_data = pd.read_csv(file_path)\n",
    "        self.source_file_name = file_name\n",
    "        self.column_names = self.current_data.columns\n",
    "        # Add snapshot timestamp and filename columns\n",
    "        self.current_data['SnapshotTimestamp'] = self.timestamp\n",
    "        self.current_data['SourceFileName'] = file_name\n",
    "\n",
    "    def load_previous_data(self, snapshot_directory):\n",
    "        if not os.path.exists(snapshot_directory):\n",
    "            return False\n",
    "        snapshot_subdirs = [d for d in os.listdir(snapshot_directory) if os.path.isdir(os.path.join(snapshot_directory, d))]\n",
    "        if not snapshot_subdirs:\n",
    "            return False\n",
    "        latest_snapshot_dir = max(snapshot_subdirs, key=lambda d: os.path.getctime(os.path.join(snapshot_directory, d)))\n",
    "        snapshot_files = glob.glob(os.path.join(snapshot_directory, latest_snapshot_dir, '*.parquet'))\n",
    "        if not snapshot_files:\n",
    "            return False\n",
    "        self.previous_data = pd.read_parquet(snapshot_files[0], engine='pyarrow')\n",
    "        return True\n",
    "\n",
    "    def save_current_snapshot(self):\n",
    "        snapshot_dir = os.path.join('snapshots', self.timestamp)\n",
    "        os.makedirs(snapshot_dir, exist_ok=True)\n",
    "        snapshot_file_path = os.path.join(snapshot_dir, 'snapshot.parquet')\n",
    "        self.current_data.to_parquet(snapshot_file_path, index=False)\n",
    "\n",
    "    def apply_cdc(self, remove_duplicates=True):\n",
    "        self.current_data.drop_duplicates(keep='first', inplace=True)\n",
    "        if self.previous_data is not None:\n",
    "            combined_data = pd.concat([self.current_data, self.previous_data])\n",
    "            if remove_duplicates:\n",
    "                combined_data.drop_duplicates(subset=self.column_names, keep='last', inplace=True)\n",
    "            self.current_data = combined_data\n",
    "\n"
   ]
  },
  {
   "cell_type": "code",
   "execution_count": 58,
   "id": "6bb19c29-e366-4463-bad5-7267f7e2da31",
   "metadata": {},
   "outputs": [
    {
     "name": "stdout",
     "output_type": "stream",
     "text": [
      "Processing File: data_001.csv\n",
      "Processing File: data_002.csv\n"
     ]
    }
   ],
   "source": [
    "def run_cdc_pipeline(input_directory, snapshot_directory):\n",
    "    os.chdir(input_directory)\n",
    "    for file in glob.glob('data*.csv'):\n",
    "        print(f'Processing File: {file}')\n",
    "        timestamp = datetime.now().strftime(\"%Y%m%d%H%M%S\")\n",
    "        cdc = ChangeDataCapture(timestamp)\n",
    "        cdc.load_current_data(os.path.join(input_directory, file), file)\n",
    "        cdc.load_previous_data(snapshot_directory)\n",
    "        cdc.apply_cdc(remove_duplicates=True)\n",
    "        cdc.save_current_snapshot()\n",
    "        sleep(1)\n",
    "\n",
    "input_directory = r'C:/Users/Mirela Giantaru/OneDrive/Desktop/cdc_pipeline/'\n",
    "snapshot_directory = r'C:/Users/Mirela Giantaru/OneDrive/Desktop/cdc_pipeline/snapshots/'\n",
    "run_cdc_pipeline(input_directory, snapshot_directory)"
   ]
  },
  {
   "cell_type": "markdown",
   "id": "c4580f78-fabb-40f3-8ecc-90abb5534f60",
   "metadata": {},
   "source": [
    "##  To visualize the parquet file:"
   ]
  },
  {
   "cell_type": "code",
   "execution_count": 60,
   "id": "111078ac-80fb-46f5-9baf-de3e5ab398d4",
   "metadata": {},
   "outputs": [
    {
     "name": "stdout",
     "output_type": "stream",
     "text": [
      "   id      name  age SnapshotTimestamp SourceFileName\n",
      "0    1    Alice   31    20240827000746   data_002.csv\n",
      "1    4    David   40    20240827000746   data_002.csv\n",
      "2    1    Alice   30    20240827000745   data_001.csv\n",
      "3    2      Bob   25    20240827000745   data_001.csv\n",
      "4    3  Charlie   35    20240827000745   data_001.csv\n"
     ]
    }
   ],
   "source": [
    "import pandas as pd\n",
    "\n",
    "# Load the Parquet file\n",
    "df = pd.read_parquet(r'C:/Users/Mirela Giantaru/OneDrive/Desktop/cdc_pipeline/snapshots/20240827000959/snapshot.parquet')\n",
    " \n",
    "# Display the contents\n",
    "print(df)\n"
   ]
  },
  {
   "cell_type": "code",
   "execution_count": 61,
   "id": "059e5764-f9d6-4516-bd26-32860b4cbdde",
   "metadata": {},
   "outputs": [
    {
     "data": {
      "text/html": [
       "<div>\n",
       "<style scoped>\n",
       "    .dataframe tbody tr th:only-of-type {\n",
       "        vertical-align: middle;\n",
       "    }\n",
       "\n",
       "    .dataframe tbody tr th {\n",
       "        vertical-align: top;\n",
       "    }\n",
       "\n",
       "    .dataframe thead th {\n",
       "        text-align: right;\n",
       "    }\n",
       "</style>\n",
       "<table border=\"1\" class=\"dataframe\">\n",
       "  <thead>\n",
       "    <tr style=\"text-align: right;\">\n",
       "      <th></th>\n",
       "      <th>id</th>\n",
       "      <th>age</th>\n",
       "    </tr>\n",
       "  </thead>\n",
       "  <tbody>\n",
       "    <tr>\n",
       "      <th>count</th>\n",
       "      <td>5.00000</td>\n",
       "      <td>5.000000</td>\n",
       "    </tr>\n",
       "    <tr>\n",
       "      <th>mean</th>\n",
       "      <td>2.20000</td>\n",
       "      <td>32.200000</td>\n",
       "    </tr>\n",
       "    <tr>\n",
       "      <th>std</th>\n",
       "      <td>1.30384</td>\n",
       "      <td>5.630275</td>\n",
       "    </tr>\n",
       "    <tr>\n",
       "      <th>min</th>\n",
       "      <td>1.00000</td>\n",
       "      <td>25.000000</td>\n",
       "    </tr>\n",
       "    <tr>\n",
       "      <th>25%</th>\n",
       "      <td>1.00000</td>\n",
       "      <td>30.000000</td>\n",
       "    </tr>\n",
       "    <tr>\n",
       "      <th>50%</th>\n",
       "      <td>2.00000</td>\n",
       "      <td>31.000000</td>\n",
       "    </tr>\n",
       "    <tr>\n",
       "      <th>75%</th>\n",
       "      <td>3.00000</td>\n",
       "      <td>35.000000</td>\n",
       "    </tr>\n",
       "    <tr>\n",
       "      <th>max</th>\n",
       "      <td>4.00000</td>\n",
       "      <td>40.000000</td>\n",
       "    </tr>\n",
       "  </tbody>\n",
       "</table>\n",
       "</div>"
      ],
      "text/plain": [
       "           id         age\n",
       "count  5.00000   5.000000\n",
       "mean   2.20000  32.200000\n",
       "std    1.30384   5.630275\n",
       "min    1.00000  25.000000\n",
       "25%    1.00000  30.000000\n",
       "50%    2.00000  31.000000\n",
       "75%    3.00000  35.000000\n",
       "max    4.00000  40.000000"
      ]
     },
     "execution_count": 61,
     "metadata": {},
     "output_type": "execute_result"
    }
   ],
   "source": [
    "df.describe()"
   ]
  },
  {
   "cell_type": "code",
   "execution_count": 62,
   "id": "c5180a04-2872-4bca-91ee-54bc81ef2a5c",
   "metadata": {},
   "outputs": [
    {
     "name": "stdout",
     "output_type": "stream",
     "text": [
      "<class 'pandas.core.frame.DataFrame'>\n",
      "RangeIndex: 5 entries, 0 to 4\n",
      "Data columns (total 5 columns):\n",
      " #   Column             Non-Null Count  Dtype \n",
      "---  ------             --------------  ----- \n",
      " 0   id                 5 non-null      int64 \n",
      " 1   name               5 non-null      object\n",
      " 2   age                5 non-null      int64 \n",
      " 3   SnapshotTimestamp  5 non-null      object\n",
      " 4   SourceFileName     5 non-null      object\n",
      "dtypes: int64(2), object(3)\n",
      "memory usage: 328.0+ bytes\n"
     ]
    }
   ],
   "source": [
    "df.info()"
   ]
  },
  {
   "cell_type": "markdown",
   "id": "42953d13-0bc4-4e35-9882-3213f7d33c33",
   "metadata": {},
   "source": [
    "##  Let's make some changes to the data and detect with this algorithm what changes have occurred"
   ]
  },
  {
   "cell_type": "markdown",
   "id": "4657916f-64e0-46c8-a7dd-a013e1a21d52",
   "metadata": {},
   "source": [
    "To identify which records have changed, the general approach is to compare the current snapshot with the previous one. The changes could include:\n",
    "\n",
    "#Updated Records: Rows where some columns have changed.\n",
    "\n",
    "#New Records: Rows that are present in the current snapshot but not in the previous one.\n",
    "\n",
    "#Deleted Records (optional): Rows that were in the previous snapshot but are not in the current one (though the code currently does not track deletions)."
   ]
  },
  {
   "cell_type": "code",
   "execution_count": 63,
   "id": "27230506-64ac-41dd-8c58-3f3d8ee26fe0",
   "metadata": {},
   "outputs": [],
   "source": [
    "import pandas as pd\n",
    "\n",
    "def detect_changes(previous_df, current_df, primary_key):\n",
    "    # Merge the old and new DataFrames on the primary key\n",
    "    merged_df = previous_df.merge(current_df, on=primary_key, how='outer', suffixes=('_old', '_new'), indicator=True)\n",
    "    #  The indicator=True option adds a column _merge that indicates where the records came from: 'left_only', 'right_only', or 'both'. \n",
    "\n",
    "    # Detect updated records\n",
    "    # We check where _merge == 'both' and there are differences in any of the columns between the old and new DataFrames\n",
    "    updated_records = merged_df[(merged_df['_merge'] == 'both') & \n",
    "                                (merged_df.filter(like='_old').ne(merged_df.filter(like='_new')).any(axis=1))]\n",
    "\n",
    "    # Detect new records\n",
    "    #  We check where _merge == 'right_only' to find records that are new.\n",
    "    new_records = merged_df[merged_df['_merge'] == 'right_only']\n",
    "\n",
    "    return updated_records, new_records\n"
   ]
  },
  {
   "cell_type": "markdown",
   "id": "70ec713e-dec2-4e9a-ad6b-76d0d61b3069",
   "metadata": {},
   "source": [
    "Because we have changed some data in the second csv file and we want to monitor the change, we will have to run again the initial code, the new dataframe  will be called current_df, "
   ]
  },
  {
   "cell_type": "code",
   "execution_count": 64,
   "id": "e463a40d-6207-410a-990c-5112d5fec77c",
   "metadata": {},
   "outputs": [],
   "source": [
    "previous_df = df"
   ]
  },
  {
   "cell_type": "code",
   "execution_count": 65,
   "id": "f5d76b69-4328-4796-9795-a8e902f0e72f",
   "metadata": {},
   "outputs": [
    {
     "name": "stdout",
     "output_type": "stream",
     "text": [
      "   id      name  age SnapshotTimestamp SourceFileName\n",
      "0    1    Alice   31    20240827000746   data_002.csv\n",
      "1    4    David   40    20240827000746   data_002.csv\n",
      "2    1    Alice   30    20240827000745   data_001.csv\n",
      "3    2      Bob   25    20240827000745   data_001.csv\n",
      "4    3  Charlie   35    20240827000745   data_001.csv\n"
     ]
    }
   ],
   "source": [
    "print(previous_df)"
   ]
  },
  {
   "cell_type": "code",
   "execution_count": 66,
   "id": "aa47dafa-4d81-40df-b434-f8dc726dcb2c",
   "metadata": {},
   "outputs": [
    {
     "name": "stdout",
     "output_type": "stream",
     "text": [
      "Processing File: data_001.csv\n",
      "Processing File: data_002.csv\n"
     ]
    }
   ],
   "source": [
    "# to obtain the current_df, we run again the cdc pipeline:\n",
    "def run_cdc_pipeline(input_directory, snapshot_directory):\n",
    "    os.chdir(input_directory)\n",
    "    for file in glob.glob('data*.csv'):\n",
    "        print(f'Processing File: {file}')\n",
    "        timestamp = datetime.now().strftime(\"%Y%m%d%H%M%S\")\n",
    "        cdc = ChangeDataCapture(timestamp)\n",
    "        cdc.load_current_data(os.path.join(input_directory, file), file)\n",
    "        cdc.load_previous_data(snapshot_directory)\n",
    "        cdc.apply_cdc(remove_duplicates=True)\n",
    "        cdc.save_current_snapshot()\n",
    "        sleep(1)\n",
    "\n",
    "input_directory = r'C:/Users/Mirela Giantaru/OneDrive/Desktop/cdc_pipeline/'\n",
    "snapshot_directory = r'C:/Users/Mirela Giantaru/OneDrive/Desktop/cdc_pipeline/snapshots/'\n",
    "run_cdc_pipeline(input_directory, snapshot_directory)"
   ]
  },
  {
   "cell_type": "code",
   "execution_count": 67,
   "id": "ab1a670a-c842-4b5b-9c87-705359bd8723",
   "metadata": {},
   "outputs": [
    {
     "name": "stdout",
     "output_type": "stream",
     "text": [
      "    id      name  age SnapshotTimestamp SourceFileName\n",
      "0     1    Alice   25    20240827030655   data_002.csv\n",
      "1     2      Bob   29    20240827030655   data_002.csv\n",
      "2     3  Charlie   45    20240827030655   data_002.csv\n",
      "3     4    David   18    20240827030655   data_002.csv\n",
      "4     6     Alex   55    20240827030655   data_002.csv\n",
      "5     5    Bambi   22    20240827005356   data_002.csv\n",
      "6     6     Alex   44    20240827005356   data_002.csv\n",
      "7     7    Kevin   39    20240827005356   data_002.csv\n",
      "8     1    Alice   31    20240827000746   data_002.csv\n",
      "9     4    David   40    20240827000746   data_002.csv\n",
      "10    1    Alice   30    20240827000745   data_001.csv\n",
      "11    2      Bob   25    20240827000745   data_001.csv\n",
      "12    3  Charlie   35    20240827000745   data_001.csv\n"
     ]
    }
   ],
   "source": [
    "#  the new directory is ...20240827030711 - which is the last subdirectory in the 'snapshots' directory, which will replace the old one: 20240827000959:\n",
    "current_df = pd.read_parquet(r'C:/Users/Mirela Giantaru/OneDrive/Desktop/cdc_pipeline/snapshots/20240827030711/snapshot.parquet')\n",
    "print(current_df)"
   ]
  },
  {
   "cell_type": "code",
   "execution_count": 69,
   "id": "72ae583c-d9b1-4a67-9b0e-6eae3629c32f",
   "metadata": {},
   "outputs": [],
   "source": [
    "# Below we can see the changes that occurred, I used as primary key the 'id' from the csv file, which acts as a primary key:\n",
    "#updated_df, new_df = detect_changes(previous_df, current_df, primary_key='id')\n",
    "\n",
    "# Display the results\n",
    "#print(\"Updated Records:\\n\", updated_df)\n",
    "#print(\"New Records:\\n\", new_df)"
   ]
  },
  {
   "cell_type": "markdown",
   "id": "5aacb272-c21e-48fe-b80a-191c014dae65",
   "metadata": {},
   "source": [
    "TO Detect Changes:\n",
    "\n",
    "Merging DataFrames: We merge the previous and current DataFrames using the primary key (like id). The indicator=True option adds a column _merge that indicates where the records came from: 'left_only', 'right_only', or 'both'.\n",
    "Updated Records: We check where _merge == 'both' and there are differences in any of the columns between the old and new DataFrames.\n",
    "New Records: We check where _merge == 'right_only' to find records that are new.\n"
   ]
  },
  {
   "cell_type": "code",
   "execution_count": 70,
   "id": "5b5c6d55-625d-494f-ac90-f1effcd75dd7",
   "metadata": {},
   "outputs": [
    {
     "name": "stdout",
     "output_type": "stream",
     "text": [
      "Columns in previous_df: Index(['id ', 'name', 'age', 'SnapshotTimestamp', 'SourceFileName'], dtype='object')\n",
      "Columns in current_df: Index(['id ', 'name', 'age', 'SnapshotTimestamp', 'SourceFileName'], dtype='object')\n"
     ]
    }
   ],
   "source": [
    "print(\"Columns in previous_df:\", previous_df.columns)\n",
    "print(\"Columns in current_df:\", current_df.columns)\n"
   ]
  },
  {
   "cell_type": "code",
   "execution_count": 71,
   "id": "d42cbe29-5bf6-4eda-8d9d-28746b224c99",
   "metadata": {},
   "outputs": [
    {
     "name": "stdout",
     "output_type": "stream",
     "text": [
      "Updated Records:\n",
      "     id name_old  age_old SnapshotTimestamp_old SourceFileName_old name_new  \\\n",
      "0    1    Alice     31.0        20240827000746       data_002.csv    Alice   \n",
      "1    1    Alice     31.0        20240827000746       data_002.csv    Alice   \n",
      "2    1    Alice     31.0        20240827000746       data_002.csv    Alice   \n",
      "3    1    Alice     30.0        20240827000745       data_001.csv    Alice   \n",
      "4    1    Alice     30.0        20240827000745       data_001.csv    Alice   \n",
      "5    1    Alice     30.0        20240827000745       data_001.csv    Alice   \n",
      "6    2      Bob     25.0        20240827000745       data_001.csv      Bob   \n",
      "7    2      Bob     25.0        20240827000745       data_001.csv      Bob   \n",
      "8    3  Charlie     35.0        20240827000745       data_001.csv  Charlie   \n",
      "9    3  Charlie     35.0        20240827000745       data_001.csv  Charlie   \n",
      "10   4    David     40.0        20240827000746       data_002.csv    David   \n",
      "11   4    David     40.0        20240827000746       data_002.csv    David   \n",
      "\n",
      "    age_new SnapshotTimestamp_new SourceFileName_new _merge  \n",
      "0        25        20240827030655       data_002.csv   both  \n",
      "1        31        20240827000746       data_002.csv   both  \n",
      "2        30        20240827000745       data_001.csv   both  \n",
      "3        25        20240827030655       data_002.csv   both  \n",
      "4        31        20240827000746       data_002.csv   both  \n",
      "5        30        20240827000745       data_001.csv   both  \n",
      "6        29        20240827030655       data_002.csv   both  \n",
      "7        25        20240827000745       data_001.csv   both  \n",
      "8        45        20240827030655       data_002.csv   both  \n",
      "9        35        20240827000745       data_001.csv   both  \n",
      "10       18        20240827030655       data_002.csv   both  \n",
      "11       40        20240827000746       data_002.csv   both  \n",
      "New Records:\n",
      "     id name_old  age_old SnapshotTimestamp_old SourceFileName_old name_new  \\\n",
      "12   5      NaN      NaN                   NaN                NaN    Bambi   \n",
      "13   6      NaN      NaN                   NaN                NaN     Alex   \n",
      "14   6      NaN      NaN                   NaN                NaN     Alex   \n",
      "15   7      NaN      NaN                   NaN                NaN    Kevin   \n",
      "\n",
      "    age_new SnapshotTimestamp_new SourceFileName_new      _merge  \n",
      "12       22        20240827005356       data_002.csv  right_only  \n",
      "13       55        20240827030655       data_002.csv  right_only  \n",
      "14       44        20240827005356       data_002.csv  right_only  \n",
      "15       39        20240827005356       data_002.csv  right_only  \n"
     ]
    }
   ],
   "source": [
    "# Strip spaces from column names\n",
    "previous_df.columns = previous_df.columns.str.strip()\n",
    "current_df.columns = current_df.columns.str.strip()\n",
    "\n",
    "# Now, you can use the detect_changes function\n",
    "updated_df, new_df = detect_changes(previous_df, current_df, primary_key='id')\n",
    "\n",
    "# Display the results\n",
    "print(\"Updated Records:\\n\", updated_df)\n",
    "print(\"New Records:\\n\", new_df)\n"
   ]
  },
  {
   "cell_type": "code",
   "execution_count": 72,
   "id": "7866ac92-2123-4f47-8a6b-f932f3bb5ba9",
   "metadata": {},
   "outputs": [],
   "source": [
    "import seaborn as sns\n",
    "import matplotlib.pyplot as plt\n"
   ]
  },
  {
   "cell_type": "markdown",
   "id": "6e11f453-e3e5-4900-9e03-fc26084a71f5",
   "metadata": {},
   "source": [
    "# Filter out new records\n",
    "new_records = new_df[new_df['_merge'] == 'right_only']\n",
    "\n",
    "# Plotting new records\n",
    "plt.figure(figsize=(6, 3))\n",
    "sns.barplot(x='name_new', y='age_new', data=new_records, palette='magma')\n",
    "plt.title('New Entries')\n",
    "plt.xlabel('Name')\n",
    "plt.ylabel('Age')\n",
    "plt.show()\n"
   ]
  },
  {
   "cell_type": "code",
   "execution_count": 82,
   "id": "5debd6ca-7f1c-4be5-bc46-3ae9fc2d167a",
   "metadata": {},
   "outputs": [
    {
     "data": {
      "image/png": "[encoded data removed]",
      "text/plain": [
       "<Figure size 800x300 with 1 Axes>"
      ]
     },
     "metadata": {},
     "output_type": "display_data"
    }
   ],
   "source": [
    "import seaborn as sns\n",
    "import matplotlib.pyplot as plt\n",
    "import pandas as pd\n",
    "\n",
    "# Example DataFrame\n",
    "data = updated_df\n",
    "\n",
    "df_plotted = pd.DataFrame(data)\n",
    "\n",
    "# Melt DataFrame for easy plotting\n",
    "melted_df = df_plotted.melt(id_vars=['id'], value_vars=['age_old', 'age_new'], \n",
    "                    var_name='Age Type', value_name='Age')\n",
    "\n",
    "# Plotting\n",
    "plt.figure(figsize=(8, 3))\n",
    "sns.barplot(x='id', y='Age', hue='Age Type', data=melted_df, palette='magma')\n",
    "plt.title('Comparison of Old and New Ages')\n",
    "plt.xlabel('ID')\n",
    "plt.ylabel('Age')\n",
    "plt.show()\n"
   ]
  },
  {
   "cell_type": "code",
   "execution_count": null,
   "id": "f2ee1ad0-a543-4413-be73-bdb0d52da3f9",
   "metadata": {},
   "outputs": [],
   "source": []
  }
 ],
 "metadata": {
  "kernelspec": {
   "display_name": "Python (la_munca)",
   "language": "python",
   "name": "la_munca"
  },
  "language_info": {
   "codemirror_mode": {
    "name": "ipython",
    "version": 3
   },
   "file_extension": ".py",
   "mimetype": "text/x-python",
   "name": "python",
   "nbconvert_exporter": "python",
   "pygments_lexer": "ipython3",
   "version": "3.10.7"
  }
 },
 "nbformat": 4,
 "nbformat_minor": 5
}
